{
 "cells": [
  {
   "cell_type": "markdown",
   "id": "928ae1bc-e179-4d94-9217-6d996b41be33",
   "metadata": {},
   "source": [
    "<div style=\"text-align: center\">\n",
    "\n",
    "</div>\n",
    "<br>\n",
    "<div style=\"text-align: center\">\n",
    "\n",
    "<h1 style=\"text-align: center;\">Aalto Scientific Computing</h1> \n",
    "<h2 style=\"text-align: center;\">Python for Scientific Computing 2022</h2>\n",
    "<h3>Day 3</h3>\n",
    "<h3>Igori Comarovschii</h3>\n",
    "<h3><a href=\"mailto:igori.comarovschii@ki.se\">igori.comarovschii@ki.se</a></h3>\n",
    "</div>"
   ]
  },
  {
   "cell_type": "code",
   "execution_count": null,
   "id": "c7e99042-0ec6-4058-8a15-4b719b82fd96",
   "metadata": {},
   "outputs": [],
   "source": [
    "Library ecosystem\n",
    "Data analysis and other important core packages\n",
    "pandas - columnar data analysis\n",
    "\n",
    "networkx - graph and network analysis"
   ]
  },
  {
   "cell_type": "code",
   "execution_count": 8,
   "id": "89b594b3-204e-46de-9c37-35bc8e1b2c32",
   "metadata": {},
   "outputs": [],
   "source": [
    "import pyphi\n",
    "import numpy as np"
   ]
  },
  {
   "cell_type": "code",
   "execution_count": 11,
   "id": "429b1fa1-9428-40ac-a3b2-9e1814f7be37",
   "metadata": {},
   "outputs": [
    {
     "name": "stdout",
     "output_type": "stream",
     "text": [
      "Requirement already satisfied: networkx in ./lib/python3.9/site-packages (2.8.4)\n",
      "Note: you may need to restart the kernel to use updated packages.\n"
     ]
    }
   ],
   "source": [
    "pip install networkx\n"
   ]
  },
  {
   "cell_type": "code",
   "execution_count": 9,
   "id": "3f83faf8-52fd-4532-b0ca-89c86140938e",
   "metadata": {},
   "outputs": [],
   "source": [
    "# create a network with high phi\n",
    "np.random.seed(0)  # set the random seed for reproducibility\n",
    "tpm = np.random.rand(2, 2, 2)  # create a random TPM\n",
    "network = pyphi.Network(tpm=tpm)"
   ]
  },
  {
   "cell_type": "code",
   "execution_count": 10,
   "id": "87afe60a-1efc-41c0-8760-dfe30a63ea40",
   "metadata": {},
   "outputs": [
    {
     "name": "stdout",
     "output_type": "stream",
     "text": [
      "0.073276\n"
     ]
    }
   ],
   "source": [
    "# calculate the phi of the network\n",
    "subsystem = pyphi.Subsystem(network, (0, 1))\n",
    "mechanism = subsystem.node_indices\n",
    "purview = subsystem.node_indices\n",
    "phi = subsystem.phi(mechanism, purview)\n",
    "print(phi)\n"
   ]
  },
  {
   "cell_type": "code",
   "execution_count": 12,
   "id": "a7506d72-29f4-4121-82e0-4a208228c66c",
   "metadata": {},
   "outputs": [],
   "source": [
    "import networkx as nx\n",
    "\n",
    "# create the network\n",
    "G = nx.Graph()\n",
    "G.add_nodes_from([0, 1])\n",
    "G.add_edge(0, 1)\n",
    "\n",
    "# calculate the phi of the network\n",
    "subsystem = pyphi.Subsystem(network, (0, 1))\n",
    "mechanism = subsystem.node_indices\n",
    "purview = subsystem.node_indices\n",
    "phi = subsystem.phi(mechanism, purview)"
   ]
  },
  {
   "cell_type": "code",
   "execution_count": 13,
   "id": "6e479cf5-d14a-4152-a2eb-78bcc06ef4a7",
   "metadata": {},
   "outputs": [
    {
     "data": {
      "image/png": "[encoded data removed]",
      "text/plain": [
       "<Figure size 640x480 with 1 Axes>"
      ]
     },
     "metadata": {},
     "output_type": "display_data"
    }
   ],
   "source": [
    "# create a customized node label that includes the phi value\n",
    "labels = {}\n",
    "for node in G.nodes:\n",
    "    labels[node] = f\"Node {node}\\nPhi = {phi:.2f}\"\n",
    "\n",
    "# plot the network\n",
    "nx.draw(G, with_labels=True, labels=labels)\n"
   ]
  },
  {
   "cell_type": "code",
   "execution_count": null,
   "id": "1dc1f69d-9e7f-4427-9e8f-afaab6113bd2",
   "metadata": {},
   "outputs": [],
   "source": []
  },
  {
   "cell_type": "code",
   "execution_count": null,
   "id": "15463fc9-9ea1-4a37-8c31-f4e39b30a770",
   "metadata": {},
   "outputs": [],
   "source": []
  }
 ],
 "metadata": {
  "kernelspec": {
   "display_name": "Python 3 (ipykernel)",
   "language": "python",
   "name": "python3"
  },
  "language_info": {
   "codemirror_mode": {
    "name": "ipython",
    "version": 3
   },
   "file_extension": ".py",
   "mimetype": "text/x-python",
   "name": "python",
   "nbconvert_exporter": "python",
   "pygments_lexer": "ipython3",
   "version": "3.9.13"
  }
 },
 "nbformat": 4,
 "nbformat_minor": 5
}
